{
 "cells": [
  {
   "cell_type": "code",
   "execution_count": 4,
   "metadata": {},
   "outputs": [],
   "source": [
    "import numpy as np\n",
    "import pandas as pd\n",
    "import matplotlib.pyplot as plt"
   ]
  },
  {
   "cell_type": "code",
   "execution_count": 6,
   "metadata": {},
   "outputs": [],
   "source": [
    "sales = pd.read_csv('Data_Set.csv', parse_dates= ['Date'])"
   ]
  },
  {
   "cell_type": "code",
   "execution_count": 7,
   "metadata": {},
   "outputs": [
    {
     "data": {
      "text/html": [
       "<div>\n",
       "<style scoped>\n",
       "    .dataframe tbody tr th:only-of-type {\n",
       "        vertical-align: middle;\n",
       "    }\n",
       "\n",
       "    .dataframe tbody tr th {\n",
       "        vertical-align: top;\n",
       "    }\n",
       "\n",
       "    .dataframe thead th {\n",
       "        text-align: right;\n",
       "    }\n",
       "</style>\n",
       "<table border=\"1\" class=\"dataframe\">\n",
       "  <thead>\n",
       "    <tr style=\"text-align: right;\">\n",
       "      <th></th>\n",
       "      <th>Date</th>\n",
       "      <th>Company</th>\n",
       "      <th>Ticker Symbol</th>\n",
       "      <th>Currency</th>\n",
       "      <th>Open</th>\n",
       "      <th>High</th>\n",
       "      <th>Low</th>\n",
       "      <th>Close</th>\n",
       "      <th>Adj Close</th>\n",
       "      <th>Volume</th>\n",
       "    </tr>\n",
       "  </thead>\n",
       "  <tbody>\n",
       "    <tr>\n",
       "      <th>0</th>\n",
       "      <td>2000-01-01</td>\n",
       "      <td>Sony Interactive Entertainment</td>\n",
       "      <td>SONY</td>\n",
       "      <td>JPY</td>\n",
       "      <td>28.525000</td>\n",
       "      <td>29.168751</td>\n",
       "      <td>20.850000</td>\n",
       "      <td>25.299999</td>\n",
       "      <td>14.535083</td>\n",
       "      <td>147012000</td>\n",
       "    </tr>\n",
       "    <tr>\n",
       "      <th>1</th>\n",
       "      <td>2000-02-01</td>\n",
       "      <td>Sony Interactive Entertainment</td>\n",
       "      <td>SONY</td>\n",
       "      <td>JPY</td>\n",
       "      <td>25.293751</td>\n",
       "      <td>31.475000</td>\n",
       "      <td>25.000000</td>\n",
       "      <td>31.350000</td>\n",
       "      <td>18.010864</td>\n",
       "      <td>67437000</td>\n",
       "    </tr>\n",
       "    <tr>\n",
       "      <th>2</th>\n",
       "      <td>2000-03-01</td>\n",
       "      <td>Sony Interactive Entertainment</td>\n",
       "      <td>SONY</td>\n",
       "      <td>JPY</td>\n",
       "      <td>30.100000</td>\n",
       "      <td>31.299999</td>\n",
       "      <td>21.700001</td>\n",
       "      <td>28.012501</td>\n",
       "      <td>16.093437</td>\n",
       "      <td>112674000</td>\n",
       "    </tr>\n",
       "    <tr>\n",
       "      <th>3</th>\n",
       "      <td>2000-04-01</td>\n",
       "      <td>Sony Interactive Entertainment</td>\n",
       "      <td>SONY</td>\n",
       "      <td>JPY</td>\n",
       "      <td>28.250000</td>\n",
       "      <td>28.250000</td>\n",
       "      <td>22.312500</td>\n",
       "      <td>22.562500</td>\n",
       "      <td>12.974537</td>\n",
       "      <td>74071000</td>\n",
       "    </tr>\n",
       "    <tr>\n",
       "      <th>4</th>\n",
       "      <td>2000-05-01</td>\n",
       "      <td>Sony Interactive Entertainment</td>\n",
       "      <td>SONY</td>\n",
       "      <td>JPY</td>\n",
       "      <td>22.700001</td>\n",
       "      <td>23.481251</td>\n",
       "      <td>17.750000</td>\n",
       "      <td>18.237499</td>\n",
       "      <td>10.487453</td>\n",
       "      <td>65035500</td>\n",
       "    </tr>\n",
       "  </tbody>\n",
       "</table>\n",
       "</div>"
      ],
      "text/plain": [
       "        Date                         Company Ticker Symbol Currency  \\\n",
       "0 2000-01-01  Sony Interactive Entertainment          SONY      JPY   \n",
       "1 2000-02-01  Sony Interactive Entertainment          SONY      JPY   \n",
       "2 2000-03-01  Sony Interactive Entertainment          SONY      JPY   \n",
       "3 2000-04-01  Sony Interactive Entertainment          SONY      JPY   \n",
       "4 2000-05-01  Sony Interactive Entertainment          SONY      JPY   \n",
       "\n",
       "        Open       High        Low      Close  Adj Close     Volume  \n",
       "0  28.525000  29.168751  20.850000  25.299999  14.535083  147012000  \n",
       "1  25.293751  31.475000  25.000000  31.350000  18.010864   67437000  \n",
       "2  30.100000  31.299999  21.700001  28.012501  16.093437  112674000  \n",
       "3  28.250000  28.250000  22.312500  22.562500  12.974537   74071000  \n",
       "4  22.700001  23.481251  17.750000  18.237499  10.487453   65035500  "
      ]
     },
     "execution_count": 7,
     "metadata": {},
     "output_type": "execute_result"
    }
   ],
   "source": [
    "sales.head()"
   ]
  },
  {
   "cell_type": "code",
   "execution_count": null,
   "metadata": {},
   "outputs": [
    {
     "data": {
      "text/plain": [
       "array(['JPY', 'HKD', 'USD', 'SEK'], dtype=object)"
      ]
     },
     "execution_count": 11,
     "metadata": {},
     "output_type": "execute_result"
    }
   ],
   "source": [
    "sales['Currency'].unique()"
   ]
  },
  {
   "cell_type": "code",
   "execution_count": 16,
   "metadata": {},
   "outputs": [],
   "source": [
    "filtered_data_JPY = sales[sales['Currency'].isin(['JPY'])]\n",
    "filtered_data_HKD = sales[sales['Currency'].isin(['HKD'])]\n",
    "filtered_data_USD = sales[sales['Currency'].isin(['USD'])]\n",
    "filtered_data_SEK = sales[sales['Currency'].isin(['SEK'])]"
   ]
  },
  {
   "cell_type": "code",
   "execution_count": 18,
   "metadata": {},
   "outputs": [],
   "source": [
    "result_JPY = filtered_data_JPY[['Open', 'High', 'Low', 'Close', 'Adj Close']]\n",
    "result_HKD = filtered_data_HKD[['Open', 'High', 'Low', 'Close', 'Adj Close']]\n",
    "result_USD = filtered_data_USD[['Open', 'High', 'Low', 'Close', 'Adj Close']]\n",
    "result_SEK = filtered_data_SEK[['Open', 'High', 'Low', 'Close', 'Adj Close']]"
   ]
  },
  {
   "cell_type": "code",
   "execution_count": 21,
   "metadata": {},
   "outputs": [
    {
     "name": "stdout",
     "output_type": "stream",
     "text": [
      "         Open      High       Low     Close  Adj Close\n",
      "0    5.144572  5.260675  3.760362  4.562933   2.621447\n",
      "1    4.561807  5.676614  4.508828  5.654070   3.248315\n",
      "2    5.428629  5.645052  3.913663  5.052142   2.902501\n",
      "3    5.094975  5.094975  4.024129  4.069217   2.339998\n",
      "4    4.094016  4.234917  3.201268  3.289190   1.891445\n",
      "..        ...       ...       ...       ...        ...\n",
      "293  2.998551  3.155819  2.860400  3.064199   3.064199\n",
      "294  3.070331  3.479733  3.066724  3.195496   3.195496\n",
      "295  3.128405  3.524821  2.877714  3.519050   3.519050\n",
      "296  3.477569  3.561613  3.237699  3.483340   3.483340\n",
      "297  3.494522  3.513639  3.141751  3.174215   3.174215\n",
      "\n",
      "[298 rows x 5 columns]\n"
     ]
    }
   ],
   "source": [
    "result_JPY = result_JPY*0.565\n",
    "print(result_JPY)"
   ]
  },
  {
   "cell_type": "code",
   "execution_count": 22,
   "metadata": {},
   "outputs": [
    {
     "name": "stdout",
     "output_type": "stream",
     "text": [
      "             Open          High           Low         Close     Adj Close\n",
      "298     94.019344     97.299123     73.794290     84.180109     79.460462\n",
      "299     84.180109     88.553080     73.794290     80.353741     75.848621\n",
      "300     80.353741     86.913184     75.434066     83.086809     78.428441\n",
      "301     83.086809    104.951873     83.086809    100.578788     94.939717\n",
      "302     99.485609    132.283080     96.752413    129.003302    121.770542\n",
      "..            ...           ...           ...           ...           ...\n",
      "537  43499.580833  46488.103200  43475.864583  44163.697317  44163.697317\n",
      "538  43523.300700  47104.783567  41625.827100  42954.060067  42954.060067\n",
      "539  43143.804533  45729.114483  41388.642900  45302.182200  45302.182200\n",
      "540  45064.998000  54244.025817  43286.116500  52726.048383  52726.048383\n",
      "541  53366.445000  57208.828317  47982.364383  47982.364383  47982.364383\n",
      "\n",
      "[244 rows x 5 columns]\n"
     ]
    }
   ],
   "source": [
    "result_HKD = result_HKD*10.89\n",
    "print(result_HKD)"
   ]
  },
  {
   "cell_type": "code",
   "execution_count": 23,
   "metadata": {},
   "outputs": [
    {
     "name": "stdout",
     "output_type": "stream",
     "text": [
      "               Open           High            Low          Close  \\\n",
      "542   420631.834275  425111.406525  339999.533775  350750.507175   \n",
      "543   352990.293300  394202.358000  315809.843625  320289.415875   \n",
      "544   321185.330325  412120.647000  318721.565587  380763.641250   \n",
      "545   338431.683487  345822.977700  232937.757000  249960.131550   \n",
      "546   261159.062175  265190.677200  216363.339675  224202.591112   \n",
      "...             ...            ...            ...            ...   \n",
      "2204   62785.686297   65007.550306   55044.982575   56406.772955   \n",
      "2205   56335.101576   58055.259091   51819.691924   54686.618845   \n",
      "2206   54973.311197   57732.729344   47375.957076   54256.580325   \n",
      "2207   53683.192203   59882.918555   51246.307221   56765.140097   \n",
      "2208   56836.811475   57768.566746   52464.751425   56120.080603   \n",
      "\n",
      "          Adj Close  \n",
      "542   216270.666858  \n",
      "543   197488.548254  \n",
      "544   234776.421297  \n",
      "545   154123.888325  \n",
      "546   138241.994737  \n",
      "...             ...  \n",
      "2204   55030.170515  \n",
      "2205   54018.893547  \n",
      "2206   53594.107938  \n",
      "2207   56072.035385  \n",
      "2208   56120.080603  \n",
      "\n",
      "[1572 rows x 5 columns]\n"
     ]
    }
   ],
   "source": [
    "result_USD = result_USD*84.66 \n",
    "print(result_USD)"
   ]
  },
  {
   "cell_type": "code",
   "execution_count": 24,
   "metadata": {},
   "outputs": [
    {
     "name": "stdout",
     "output_type": "stream",
     "text": [
      "             Open         High          Low        Close    Adj Close\n",
      "2026   307.727441   333.620339   269.883888   330.632683   330.632683\n",
      "2027   330.632683   341.587385   290.797397   299.760338   299.760338\n",
      "2028   300.756233   422.253794   291.793321   382.418566   382.418566\n",
      "2029   382.418566   406.319731   349.554459   391.381506   391.381506\n",
      "2030   391.381506   478.023200   363.496789   453.126139   453.126139\n",
      "...           ...          ...          ...          ...          ...\n",
      "2116  1566.123454  1593.012305  1324.124255  1391.645096  1391.645096\n",
      "2117  1408.973377  1670.093600  1374.316700  1636.631895  1636.631895\n",
      "2118  1628.266525  1641.412122  1238.080047  1443.630055  1443.630055\n",
      "2119  1440.044913  1622.291212  1356.390875  1576.878995  1576.878995\n",
      "2120  1579.866708  1904.324973  1551.782772  1835.011504  1835.011504\n",
      "\n",
      "[95 rows x 5 columns]\n"
     ]
    }
   ],
   "source": [
    "result_SEK = result_SEK*7.73\n",
    "print(result_SEK)"
   ]
  },
  {
   "cell_type": "code",
   "execution_count": 25,
   "metadata": {},
   "outputs": [],
   "source": [
    "sales.loc[sales['Currency'] == 'JPY', ['Open', 'High', 'Low', 'Close', 'Adj Close']] = result_JPY\n",
    "\n",
    "sales.loc[sales['Currency'] == 'HKD', ['Open', 'High', 'Low', 'Close', 'Adj Close']] = result_HKD\n",
    "\n",
    "sales.loc[sales['Currency'] == 'USD', ['Open', 'High', 'Low', 'Close', 'Adj Close']] = result_USD\n",
    "\n",
    "sales.loc[sales['Currency'] == 'SEK', ['Open', 'High', 'Low', 'Close', 'Adj Close']] = result_SEK\n"
   ]
  },
  {
   "cell_type": "code",
   "execution_count": 27,
   "metadata": {},
   "outputs": [],
   "source": [
    "sales = sales.drop(['Currency', 'Adj Close'], axis = 1).copy()"
   ]
  },
  {
   "cell_type": "code",
   "execution_count": null,
   "metadata": {},
   "outputs": [],
   "source": [
    "sales.to_csv('Data_Set.csv', index=False)"
   ]
  },
  {
   "cell_type": "code",
   "execution_count": null,
   "metadata": {},
   "outputs": [],
   "source": []
  },
  {
   "cell_type": "code",
   "execution_count": null,
   "metadata": {},
   "outputs": [],
   "source": []
  }
 ],
 "metadata": {
  "kernelspec": {
   "display_name": "Python 3",
   "language": "python",
   "name": "python3"
  },
  "language_info": {
   "codemirror_mode": {
    "name": "ipython",
    "version": 3
   },
   "file_extension": ".py",
   "mimetype": "text/x-python",
   "name": "python",
   "nbconvert_exporter": "python",
   "pygments_lexer": "ipython3",
   "version": "3.13.0"
  }
 },
 "nbformat": 4,
 "nbformat_minor": 2
}
